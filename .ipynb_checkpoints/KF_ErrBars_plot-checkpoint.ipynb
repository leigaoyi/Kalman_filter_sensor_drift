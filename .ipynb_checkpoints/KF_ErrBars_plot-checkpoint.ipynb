{
 "cells": [
  {
   "cell_type": "code",
   "execution_count": null,
   "id": "f627858e",
   "metadata": {},
   "outputs": [],
   "source": [
    "import matplotlib.pyplot as plt\n",
    "import seaborn as sns\n",
    "\n",
    "# Set seaborn style\n",
    "sns.set_style(\"white\")\n",
    "sns.set_palette(\"bone\")\n",
    "\n",
    "\n",
    "\n",
    "\n",
    "# Set figure size. figsize=(4,3\n",
    "fig, ax = plt.subplots()\n",
    "\n",
    "# Plot the data with error bars\n",
    "ax.plot(time_period, z_ref[:50], color='#C7C9CB',label=r'Ideal response $k_{\\mathrm{slope}}\\delta B_x$')\n",
    "ax.errorbar(time_period, y_locat, yerr=err_matrix, fmt='o',color='#EC2027', ecolor='#EC2027', \\\n",
    "            elinewidth=1, capsize=2, markersize=2, errorevery=1, label=r'Measurement $y_{k+\\tau}$')\n",
    "ax.errorbar(new_time_period, new_y_locat, yerr=new_err_matrix,fmt='o', color='#179DD9', \\\n",
    "            ecolor='#179DD9', elinewidth=1, capsize=2, markersize=2, errorevery=1, label=r'KF estimate $H\\hat{x}_k$')\n",
    "\n",
    "#  , label='KF estimate $H\\hat{x}_k$'  , label='Ideal response $k_{slope}\\deltaB_x$'   , label='Measurement $y_{k+\\tau}$'\n",
    "\n",
    "# Add labels and legend\n",
    "ax.set_xlabel('Measurement Time (ms)', fontsize=14, fontname='Arial')\n",
    "ax.set_ylabel('Response (mV)', fontsize=14, fontname='Arial')\n",
    "#ax.legend(facecolor='black')\n",
    "\n",
    "# Add title to the figure\n",
    "#ax.set_title('Measurement Time vs Response', fontsize=14, fontname='Arial')\n",
    "# Set color of outer box to black\n",
    "# ax.spines['bottom'].set_color('black')\n",
    "# ax.spines['top'].set_color('black')\n",
    "# ax.spines['left'].set_color('black')\n",
    "# ax.spines['right'].set_color('black')\n",
    "\n",
    "# Customize grid appearance\n",
    "ax.grid(True, which='both', linestyle='--', linewidth=0.5)\n",
    "ax.minorticks_on()\n",
    "ax.grid(which='minor', linestyle=':', linewidth=0.5)\n",
    "\n",
    "ax.tick_params(axis='both', labelsize=12)\n",
    "ax.legend(loc='upper right', fontsize=12)\n",
    "ax.set_xlim([-1, 50])\n",
    "\n",
    "\n",
    "fig.tight_layout()\n",
    "plt.savefig('ErrBars.jpg', dpi=300)\n",
    "\n",
    "plt.show()\n"
   ]
  }
 ],
 "metadata": {
  "kernelspec": {
   "display_name": "Python 3 (ipykernel)",
   "language": "python",
   "name": "python3"
  },
  "language_info": {
   "codemirror_mode": {
    "name": "ipython",
    "version": 3
   },
   "file_extension": ".py",
   "mimetype": "text/x-python",
   "name": "python",
   "nbconvert_exporter": "python",
   "pygments_lexer": "ipython3",
   "version": "3.9.16"
  }
 },
 "nbformat": 4,
 "nbformat_minor": 5
}
