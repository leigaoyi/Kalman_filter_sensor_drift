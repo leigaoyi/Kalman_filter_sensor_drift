{
 "cells": [
  {
   "cell_type": "code",
   "execution_count": 21,
   "id": "4ddc5265",
   "metadata": {},
   "outputs": [],
   "source": [
    "import numpy as np"
   ]
  },
  {
   "cell_type": "code",
   "execution_count": 22,
   "id": "2e423768",
   "metadata": {},
   "outputs": [],
   "source": [
    "Ipump = 1.0 * 10**(-3) * 10** 4 # W/m^2\n",
    "re = 2.82 * 10**(-15) # m\n",
    "c = 3 * 10**8 # m/s\n",
    "fD1 = 1/3\n",
    "hPlank = 6.626 * 10**(-34) # J*s \n",
    "vD1 = 377358490566037.75 # Hz\n",
    "TaoD1 = 7.0274 * 10**9 #Hz\n",
    "#TaoD1 = 17.8 * 10**9 # Hz/amg"
   ]
  },
  {
   "cell_type": "code",
   "execution_count": 23,
   "id": "29d5028c",
   "metadata": {},
   "outputs": [
    {
     "name": "stdout",
     "output_type": "stream",
     "text": [
      "Optical pump rate :  3209.8066469687997\n"
     ]
    }
   ],
   "source": [
    "Rop = Ipump * re * c * fD1 /(hPlank * vD1 * TaoD1 /2)\n",
    "print('Optical pump rate : ', Rop)"
   ]
  },
  {
   "cell_type": "code",
   "execution_count": 24,
   "id": "80577dd6",
   "metadata": {},
   "outputs": [
    {
     "data": {
      "text/plain": [
       "7.027440000000001"
      ]
     },
     "execution_count": 24,
     "metadata": {},
     "output_type": "execute_result"
    }
   ],
   "source": [
    "1.316 * 10**(-3)  * 300 * 17.8"
   ]
  },
  {
   "cell_type": "code",
   "execution_count": 25,
   "id": "2cb57d58",
   "metadata": {},
   "outputs": [
    {
     "data": {
      "text/plain": [
       "377358490566037.75"
      ]
     },
     "execution_count": 25,
     "metadata": {},
     "output_type": "execute_result"
    }
   ],
   "source": [
    "3*10**8/(795*10**(-9))"
   ]
  },
  {
   "cell_type": "code",
   "execution_count": null,
   "id": "2f091184",
   "metadata": {},
   "outputs": [],
   "source": [
    "x = "
   ]
  }
 ],
 "metadata": {
  "kernelspec": {
   "display_name": "Python 3 (ipykernel)",
   "language": "python",
   "name": "python3"
  },
  "language_info": {
   "codemirror_mode": {
    "name": "ipython",
    "version": 3
   },
   "file_extension": ".py",
   "mimetype": "text/x-python",
   "name": "python",
   "nbconvert_exporter": "python",
   "pygments_lexer": "ipython3",
   "version": "3.8.8"
  }
 },
 "nbformat": 4,
 "nbformat_minor": 5
}
